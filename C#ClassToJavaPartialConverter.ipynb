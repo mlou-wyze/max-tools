{
 "cells": [
  {
   "cell_type": "code",
   "execution_count": 14,
   "metadata": {},
   "outputs": [],
   "source": [
    "type_dict = {\n",
    "    'string': 'String',\n",
    "    'int': 'Integer',\n",
    "\n",
    "}"
   ]
  },
  {
   "cell_type": "code",
   "execution_count": 2,
   "metadata": {},
   "outputs": [],
   "source": [
    "output_file_path = \"/Users/ylou/Desktop\""
   ]
  },
  {
   "cell_type": "code",
   "execution_count": 57,
   "metadata": {},
   "outputs": [],
   "source": [
    "input_file_path = \"/Users/ylou/Desktop/C#/GlobalEdition-EventMigration/GlobalEdition.API/Models/Device/V1/System/UnBindingExtendDeviceModel.cs\""
   ]
  },
  {
   "cell_type": "code",
   "execution_count": 58,
   "metadata": {},
   "outputs": [],
   "source": [
    "with open(input_file_path, 'r') as f:\n",
    "    data = f.read()"
   ]
  },
  {
   "cell_type": "code",
   "execution_count": 59,
   "metadata": {},
   "outputs": [],
   "source": [
    "ret = []\n",
    "lines = data.split(\"\\n\")\n",
    "lines = [line for line in lines if \"get\" in line]\n",
    "for line in lines:\n",
    "    words = line.split()\n",
    "    new_syntex = []\n",
    "    json_prop = \"\"\n",
    "    for word in words:\n",
    "        if word == 'public':\n",
    "            new_syntex += 'private',\n",
    "        elif word in type_dict:\n",
    "            new_syntex += type_dict[word],\n",
    "        elif word == '{':\n",
    "            break\n",
    "        else:\n",
    "            chars = word.split('_')\n",
    "            word_builder = ''\n",
    "            for i,char in enumerate(chars):\n",
    "                word_builder += char if not i else char[0].upper() + char[1:]\n",
    "            json_prop = \"@JsonProperty(\\\"{}\\\")\".format(word)\n",
    "            new_syntex += word_builder+';',\n",
    "    ret += json_prop,\n",
    "    ret += \" \".join(new_syntex),"
   ]
  },
  {
   "cell_type": "code",
   "execution_count": 60,
   "metadata": {},
   "outputs": [
    {
     "name": "stdout",
     "output_type": "stream",
     "text": [
      "@JsonProperty(\"extend_device_mac\")\n",
      "private String extendDeviceMac;\n",
      "@JsonProperty(\"extend_device_enr\")\n",
      "private String extendDeviceEnr;\n"
     ]
    }
   ],
   "source": [
    "for item in ret:\n",
    "    print(item)"
   ]
  },
  {
   "cell_type": "code",
   "execution_count": null,
   "metadata": {},
   "outputs": [],
   "source": []
  }
 ],
 "metadata": {
  "kernelspec": {
   "display_name": "Python 3",
   "language": "python",
   "name": "python3"
  },
  "language_info": {
   "codemirror_mode": {
    "name": "ipython",
    "version": 3
   },
   "file_extension": ".py",
   "mimetype": "text/x-python",
   "name": "python",
   "nbconvert_exporter": "python",
   "pygments_lexer": "ipython3",
   "version": "3.7.6"
  }
 },
 "nbformat": 4,
 "nbformat_minor": 2
}
